{
 "cells": [
  {
   "cell_type": "markdown",
   "id": "8b43b64d",
   "metadata": {},
   "source": [
    "# Sobol' Sensitivity Analysis\n",
    "### Sampling, Model execution, Index calculation and visualization\n",
    "\n",
    "This notebook allow to run all relevant code to perform a Sobol' sensitivity analysis on the desert ant foraging model. The following steps are performed:\n",
    "\n",
    "1. Configure model parameters and create samples\n",
    "2. Run the model for each sample\n",
    "3. Compute movement indices (in external R Script!)\n",
    "4. Compute sobol indices\n",
    "5. Visualize Sensitivity Analysis results (Sobol indices and model output variation)"
   ]
  },
  {
   "cell_type": "code",
   "execution_count": null,
   "id": "f4f8e2f7",
   "metadata": {},
   "outputs": [],
   "source": [
    "# load necessary packages\n",
    "import agentpy as ap\n",
    "import pandas\n",
    "import matplotlib.pyplot as plt\n",
    "import seaborn as sns"
   ]
  },
  {
   "cell_type": "code",
   "execution_count": null,
   "id": "71c2aad4",
   "metadata": {},
   "outputs": [],
   "source": [
    "# import the model\n",
    "%run ./Model_Submission.ipynb"
   ]
  },
  {
   "cell_type": "markdown",
   "id": "5680dab6",
   "metadata": {},
   "source": [
    "### Sensitivty analysis configuration\n",
    "For configuration of the sensitivity analysis we need to set the _n_ for the saltelli sampling methods. _n_ should be a power of 2. General rule is, the higher _n_ the better the more accurate the results. BUT increasing _n_ comes at higher computational and storage cost! \n",
    "I suggest using _n_ = 512, which was used in the thesis. \n",
    "Computation took ~3 hours, using a Apple Macbook Pro with M1 Pro chip, 8-core CPU with 6 performance cores and 2 efficiency cores and 16GB unified memory. Model outputs used ~51GB of storage.\n",
    "\n",
    "(Note: Using _n_ < 16 causes errors in sobol calculation or visualization. Choose _n_ > 16)\n",
    "\n",
    "**Running the model with default configuration (n = 512, n_jobs=-1) may take several hours, requires 50+ GB free disk space and occupies all CPUs as well as a significant amount of RAM.**"
   ]
  },
  {
   "cell_type": "code",
   "execution_count": null,
   "id": "92d54778",
   "metadata": {},
   "outputs": [],
   "source": [
    "# configure n for saltelli sampling (value shall be power of two)\n",
    "saltelli_n = 512\n",
    "\n",
    "# set experiment id (default is current time)\n",
    "experiment_id = int(time.time())"
   ]
  },
  {
   "cell_type": "code",
   "execution_count": null,
   "id": "3335c57c",
   "metadata": {},
   "outputs": [],
   "source": [
    "parameters = {\n",
    "    'agents': 10,\n",
    "    'timestep': 1/50,\n",
    "    'veg_speed_median': 0.11311, # mean of means ant 03 (4 tracks) & 11 (3 tracks)\n",
    "    'veg_speed_sd': 0.09069,  # mean of sd ant 03 (4 tracks) & 11 (3 tracks)\n",
    "    'open_speed_median': 0.19387, # mean of means ant 03 (4 tracks) & 11 (3 tracks)\n",
    "    'open_speed_sd': 0.08409, # mean of sd ant 03 (4 tracks) & 11 (3 tracks)\n",
    "    'speed_impact': ap.Range(0.25, 2),\n",
    "    'veg_speed_impact': ap.Range(0.25, 2),\n",
    "    'kphi': 0.12,\n",
    "    'kphi_impact': ap.Range(0.5, 2),\n",
    "    'sigma_impact': ap.Range(0.5, 2),\n",
    "    'model_sigma2': 0.24,\n",
    "    'nest': str(complex(0,0)),\n",
    "    'context': ap.Values(False, True),\n",
    "    'env_ant': 3,\n",
    "    'foraging_runs': 3,\n",
    "    'cookie_mean': 8,\n",
    "    'cookie_sd': 0,\n",
    "    'min_feeder_dist': 2,\n",
    "    'pi_k': 0.68,\n",
    "    'place_k': 7.5,\n",
    "    'place_d': 4,\n",
    "    'iphi_mean': 0.5*np.pi,\n",
    "    'iphi_sd': 0.2,\n",
    "    # plot related\n",
    "    'plot_trjs': False,\n",
    "    'spacing': 2.0,\n",
    "    'accelerate_storing': True,\n",
    "    'seed': 42,\n",
    "    'epoch_time': experiment_id,\n",
    "    'plot_bvf': False\n",
    "}\n",
    "\n",
    "sample = ap.Sample(\n",
    "    parameters,\n",
    "    n=saltelli_n,\n",
    "    method='saltelli',\n",
    "    calc_second_order=False,\n",
    "    randomize=False\n",
    ")\n",
    "exp = ap.Experiment(CADAModel, sample, iterations=1, record=False)\n",
    "results = exp.run(n_jobs=-1, verbose=10)\n",
    "results.save(exp_name='E', exp_id=experiment_id, path='Experiments', display=True)\n",
    "print(\"model complete\")\n"
   ]
  },
  {
   "cell_type": "markdown",
   "id": "3512252f",
   "metadata": {},
   "source": [
    "## Index calculation \n",
    "Index calculation is done in R. After indices are computed and saved to disk, they are merged with agentpy output dictionary (holding the sample values) to allow computation Sobol Sensitivity analysis."
   ]
  },
  {
   "cell_type": "code",
   "execution_count": null,
   "id": "b527677a",
   "metadata": {},
   "outputs": [],
   "source": [
    "! Rscript ./model_ouput_to_indices.r E_{experiment_id}"
   ]
  },
  {
   "cell_type": "markdown",
   "id": "ce76b2c3",
   "metadata": {},
   "source": [
    "Load data and iterate over samples. For each sample split indices by motivational state and compute mean indices per motivational state. Add mean indices of all samples to agentpy results dictionary and save to file. "
   ]
  },
  {
   "cell_type": "code",
   "execution_count": null,
   "id": "0c5c05b2",
   "metadata": {},
   "outputs": [],
   "source": [
    "# Load indices\n",
    "indices = pandas.read_csv(\"Experiments/E_\" + str(experiment_id) + \"/indices/indices_no_resample.csv\")\n",
    "# Load results dictionary\n",
    "results = ap.DataDict.load(exp_name='E',  exp_id=str(experiment_id), path='Experiments', display=True)\n",
    "\n",
    "all_reporters = pandas.DataFrame()\n",
    "# iterate over samples\n",
    "for s_id in range(0,len(sample)):\n",
    "    sample_indices = indices.loc[indices[\"sampleID\"] == s_id]\n",
    "    # split by motivational state and add prefix to indices\n",
    "    searching_indices = sample_indices.loc[sample_indices[\"behavior\"] == \"searching\"]\n",
    "    searching_indices = searching_indices.add_prefix('searching_')\n",
    "    homing_indices = sample_indices.loc[sample_indices[\"behavior\"] == \"homing\"]\n",
    "    homing_indices = homing_indices.add_prefix('homing_')\n",
    "    known_feeder_indices = sample_indices.loc[sample_indices[\"behavior\"] == \"known-feeder\"]\n",
    "    known_feeder_indices = known_feeder_indices.add_prefix('known_feeder_')\n",
    "    # compute mean indices\n",
    "    sim = searching_indices.mean(numeric_only=True)\n",
    "    him = homing_indices.mean(numeric_only=True)\n",
    "    kim = known_feeder_indices.mean(numeric_only=True)\n",
    "    # add to global index DataFrame\n",
    "    reporters = pandas.concat([sim, him, kim])\n",
    "    all_reporters = pandas.concat([all_reporters, reporters], axis=1, ignore_index=True)\n",
    "# merge results dictionary and computed mean indices and save to file \n",
    "results.reporters = pandas.concat([results.reporters.T, all_reporters]).T\n",
    "results.save(exp_name=\"SA_\", exp_id=str(experiment_id) + \"_SA\", path='Experiments', display=True)"
   ]
  },
  {
   "cell_type": "markdown",
   "id": "c713fdc1",
   "metadata": {},
   "source": [
    "Alternatively data can be loaded from file, if above cell has been run before using the following code:\n",
    "\n",
    "```\n",
    "# load data\n",
    "results = ap.DataDict.load(exp_name=\"SA_\", exp_id=<put_id_as_string_here> + \"_SA\", path='Experiments', display=True)\n",
    "```"
   ]
  },
  {
   "cell_type": "markdown",
   "id": "a0b6cf43",
   "metadata": {},
   "source": [
    "## Visualization\n",
    "Define functions for visualizing data in three types of plots:\n",
    "\n",
    "1. Stacked bar plots to show relative contribution of parameter to variance in model output\n",
    "2. Bar plot with confidence interval for first-order and total effect indices for each parameter regarding each model output\n",
    "3. Average model output values over parameter variations."
   ]
  },
  {
   "cell_type": "code",
   "execution_count": null,
   "id": "9184161d",
   "metadata": {},
   "outputs": [],
   "source": [
    "def plot_stacked_bar_sobol(results, labels, motivation):\n",
    "    \"\"\" Transform data and create stacked bar plot. \"\"\"\n",
    "    # get sobol indices by reporter\n",
    "    si_list = results.sensitivity.sobol.groupby(by='reporter')\n",
    "    si_conf_list = results.sensitivity.sobol_conf.groupby(by='reporter')\n",
    "    \n",
    "    # transform indice data\n",
    "    df_s1 = pandas.DataFrame({})\n",
    "    df_st = pandas.DataFrame({})\n",
    "    for (key, si), (_, err), l in zip(si_list, si_conf_list, labels):\n",
    "        si = si.droplevel('reporter')\n",
    "        err = err.droplevel('reporter')\n",
    "        s1_col = si[\"S1\"]\n",
    "        s1_col.name = l\n",
    "        df_s1 = pandas.concat([df_s1, s1_col],axis=1)\n",
    "        st_col = si[\"ST\"]\n",
    "        st_col.name = l\n",
    "        df_st = pandas.concat([df_st, st_col],axis=1)\n",
    "    \n",
    "    # plot as stacked bars\n",
    "    plot_stacked_bar_indices(df_s1, \"First-order index\", 'sensitivity_results/bars/s1_' + motivation +'.pdf', \"S1 - \" + motivation)\n",
    "    plot_stacked_bar_indices(df_st, \"Total effect index\", 'sensitivity_results/bars/st_' + motivation +'.pdf', \"ST - \" + motivation)\n",
    "\n",
    "def plot_stacked_bar_indices(indices, xlabel, outpath, title):\n",
    "    \"\"\" Stacked bar plot of Sobol sensitivity indices (S1 and ST). \"\"\"\n",
    "    # rename parameter labels\n",
    "    transformed = indices.T.rename(columns={'speed_impact': 'sand speed', 'veg_speed_impact': 'shrub speed', 'kphi_impact': '$k_ϕ$', 'sigma_impact': '$σ^2$', 'context': 'shrub presence'})\n",
    "\n",
    "    # plot data\n",
    "    sns.set()\n",
    "    fig, axs = plt.subplots(1, 1, figsize=(10, 6))\n",
    "    transformed.plot.barh(stacked=True, ax=axs, fontsize=25)\n",
    "    \n",
    "    # styling\n",
    "    axs.set_xlabel(xlabel, fontsize=25)\n",
    "    axs.set_xlim(left=0)\n",
    "    axs.legend(loc='best', fontsize=25)\n",
    "#     axs.set_title(title, fontsize=25, y=1.0, pad=50)\n",
    "\n",
    "    plt.legend(bbox_to_anchor=(0, 1.02, 1, 0.2), loc=\"lower left\", mode=\"expand\", borderaxespad=0, ncol=3, fontsize=18)\n",
    "    plt.tight_layout()\n",
    "    \n",
    "    # save figure and display\n",
    "    plt.savefig(outpath)\n",
    "    plt.show()\n",
    "    plt.close()\n",
    "\n",
    "def plot_sobol_classic(results, labels, motivation):\n",
    "    \"\"\" Bar plot of Sobol sensitivity indices (S1 and ST) with confidence intervals as error bars. \"\"\"\n",
    "    # get sobol indices by reporter\n",
    "    si_list = results.sensitivity.sobol.groupby(by='reporter')\n",
    "    si_conf_list = results.sensitivity.sobol_conf.groupby(by='reporter')\n",
    "\n",
    "    # create figure\n",
    "    sns.set()\n",
    "    fig, axs = plt.subplots(1, 5, figsize=(16, 10), sharey=True)\n",
    "\n",
    "    # iterate over model outputs and plot bars for sobol indices and confidence intervals \n",
    "    for (key, si), (_, err), ax, l in zip(si_list, si_conf_list, axs, labels):\n",
    "        si = si.droplevel('reporter')\n",
    "        err = err.droplevel('reporter')\n",
    "        si.plot.bar(yerr=err, title=l, ax=ax, capsize = 3)\n",
    "        labels = ['sand speed', 'shrub speed', '$k_ϕ$', '$σ^2$', 'shrub presence']\n",
    "        ax.set_xticklabels(labels)\n",
    "    \n",
    "    # styling\n",
    "    plt.suptitle(\"Sobol indices for: \" + motivation, fontsize=20)\n",
    "    plt.tight_layout()\n",
    "    plt.savefig('sensitivity_results/bars/classic_bars_'+ motivation +'.pdf')\n",
    "    plt.show()\n",
    "    plt.close()\n",
    "\n",
    "# \n",
    "def plot_sensitivity(results, arr, labels, motivation):\n",
    "    \"\"\" Show average simulation results for different parameter values. \"\"\"\n",
    "\n",
    "    # get data and labels\n",
    "    data = results.arrange_reporters().astype('float')\n",
    "    params = results.parameters.sample.keys()\n",
    "    param_labels = ['sand speed','shrub speed','$k_ϕ$','$σ^2$','shrub presence']\n",
    "    \n",
    "    #iterate over parameters and plot into subplot\n",
    "    for x, labx in zip(arr, labels):\n",
    "        sns.set()\n",
    "        fig, axs = plt.subplots(1, 5, figsize=(16, 8), sharey=True, sharex=True)\n",
    "        for ax, y, ylab in zip(axs, params, param_labels):\n",
    "            sns.regplot(x=y, y=x, data=data, ax=ax, ci=99, x_bins=15, label=ylab, fit_reg=False)\n",
    "            # subplot styling/labels\n",
    "            ax.set_ylabel(labx)\n",
    "            ax.set_xlabel(\"multiplication factor value\")\n",
    "            ax.legend(loc='best')\n",
    "            ax.set_title(ylab)\n",
    "        # figure styling/labels\n",
    "        plt.suptitle(\"Average \" + labx + \" for variation in parameters during \" + motivation, fontsize=20)\n",
    "        plt.tight_layout()\n",
    "        \n",
    "        # save to file and display\n",
    "        plt.savefig('sensitivity_results/lines/' + x +'.pdf')\n",
    "        plt.show()\n",
    "        plt.close()\n",
    "\n"
   ]
  },
  {
   "cell_type": "code",
   "execution_count": null,
   "id": "2aa11689",
   "metadata": {},
   "outputs": [],
   "source": [
    "# define labels for plots\n",
    "labels_box_reduced = [\"EMax\", \"Mean DC\", \"Mean speed\", \"Rel. shrub time\", \"Straightness\"]\n",
    "labels_box_reduced_units = [\"Maximum Expected Displacement\", \"Mean Directional Change in °/s\", \"Mean speed in m/s\", \"Relative Time spent in Shrubs\", \"Straightness\"]"
   ]
  },
  {
   "cell_type": "markdown",
   "id": "0b11b28a",
   "metadata": {},
   "source": [
    "### Initial search indices\n",
    "First compute initial search indices and produce plots:"
   ]
  },
  {
   "cell_type": "code",
   "execution_count": null,
   "id": "e1a04bda",
   "metadata": {},
   "outputs": [],
   "source": [
    "# calulcate sobol indices for inital search\n",
    "search_sob_results = results.calc_sobol(reporters=['searching_Emax', 'searching_mean_speed',  'searching_straightness', 'searching_directional_change_mean', 'searching_relative_vegetation_time'])"
   ]
  },
  {
   "cell_type": "code",
   "execution_count": null,
   "id": "d7ed9a2e",
   "metadata": {
    "scrolled": true
   },
   "outputs": [],
   "source": [
    "# plot stacked bars (inital search)\n",
    "plot_stacked_bar_sobol(search_sob_results, labels_box_reduced, \"Initial search\")"
   ]
  },
  {
   "cell_type": "code",
   "execution_count": null,
   "id": "6d08bc6f",
   "metadata": {
    "scrolled": true
   },
   "outputs": [],
   "source": [
    "# plot bars with confidence interval (inital search)\n",
    "plot_sobol_classic(search_sob_results, labels_box_reduced, \"Initial search\")"
   ]
  },
  {
   "cell_type": "code",
   "execution_count": null,
   "id": "d59d5790",
   "metadata": {},
   "outputs": [],
   "source": [
    "# plot output variance by individual parameter variance (inital search)\n",
    "plot_sensitivity(search_sob_results, ['searching_Emax', 'searching_directional_change_mean', 'searching_mean_speed', 'searching_relative_vegetation_time', 'searching_straightness'], labels_box_reduced_units, \"initial search\")"
   ]
  },
  {
   "cell_type": "markdown",
   "id": "834ebef5",
   "metadata": {},
   "source": [
    "### Oriented search indices\n",
    "Next compute oriented search indices and produce plots:"
   ]
  },
  {
   "cell_type": "code",
   "execution_count": null,
   "id": "0ce8eefd",
   "metadata": {},
   "outputs": [],
   "source": [
    "# calulcate sobol indices for oriented search\n",
    "feeder_sob_results = results.calc_sobol(reporters=['known_feeder_Emax', 'known_feeder_mean_speed',  'known_feeder_straightness', 'known_feeder_directional_change_mean', 'known_feeder_relative_vegetation_time'])"
   ]
  },
  {
   "cell_type": "code",
   "execution_count": null,
   "id": "b7ba61c3",
   "metadata": {
    "scrolled": true
   },
   "outputs": [],
   "source": [
    "# plot stacked bars (oriented search)\n",
    "plot_stacked_bar_sobol(feeder_sob_results, labels_box_reduced, \"Oriented search\")"
   ]
  },
  {
   "cell_type": "code",
   "execution_count": null,
   "id": "4fd7992c",
   "metadata": {
    "scrolled": true
   },
   "outputs": [],
   "source": [
    "# plot bars with confidence interval (oriented search)\n",
    "plot_sobol_classic(feeder_sob_results, labels_box_reduced, \"Oriented search\")"
   ]
  },
  {
   "cell_type": "code",
   "execution_count": null,
   "id": "de67eb48",
   "metadata": {},
   "outputs": [],
   "source": [
    "# plot output variance by individual parameter variance\n",
    "plot_sensitivity(feeder_sob_results, ['known_feeder_Emax', 'known_feeder_directional_change_mean', 'known_feeder_mean_speed', 'known_feeder_relative_vegetation_time', 'known_feeder_straightness'], labels_box_reduced_units, \"oriented search\")"
   ]
  },
  {
   "cell_type": "markdown",
   "id": "d9b4bcc2",
   "metadata": {},
   "source": [
    "### Homing indices\n",
    "Finally compute homing indices and produce plots:"
   ]
  },
  {
   "cell_type": "code",
   "execution_count": null,
   "id": "bb5f7054",
   "metadata": {},
   "outputs": [],
   "source": [
    "# calulcate sobol indices for homing\n",
    "homing_sob_results = results.calc_sobol(reporters=['homing_Emax', 'homing_mean_speed', 'homing_straightness', 'homing_directional_change_mean', 'homing_relative_vegetation_time'])"
   ]
  },
  {
   "cell_type": "code",
   "execution_count": null,
   "id": "35a0b11e",
   "metadata": {
    "scrolled": true
   },
   "outputs": [],
   "source": [
    "# plot stacked bars (homing)\n",
    "plot_stacked_bar_sobol(homing_sob_results, labels_box_reduced, \"Homing\")"
   ]
  },
  {
   "cell_type": "code",
   "execution_count": null,
   "id": "51439e13",
   "metadata": {
    "scrolled": true
   },
   "outputs": [],
   "source": [
    "# plot bars with confidence interval (homing)\n",
    "plot_sobol_classic(homing_sob_results, labels_box_reduced, \"Homing\")"
   ]
  },
  {
   "cell_type": "code",
   "execution_count": null,
   "id": "7bec3996",
   "metadata": {
    "scrolled": true
   },
   "outputs": [],
   "source": [
    "# plot output variance by individual parameter variance (homing)\n",
    "plot_sensitivity(homing_sob_results, ['homing_Emax', 'homing_directional_change_mean', 'homing_mean_speed', 'homing_relative_vegetation_time', 'homing_straightness'], labels_box_reduced_units, \"homing\")"
   ]
  },
  {
   "cell_type": "code",
   "execution_count": null,
   "id": "91fcf80b",
   "metadata": {},
   "outputs": [],
   "source": []
  }
 ],
 "metadata": {
  "kernelspec": {
   "display_name": "Python 3 (ipykernel)",
   "language": "python",
   "name": "python3"
  },
  "language_info": {
   "codemirror_mode": {
    "name": "ipython",
    "version": 3
   },
   "file_extension": ".py",
   "mimetype": "text/x-python",
   "name": "python",
   "nbconvert_exporter": "python",
   "pygments_lexer": "ipython3",
   "version": "3.9.12"
  }
 },
 "nbformat": 4,
 "nbformat_minor": 5
}
