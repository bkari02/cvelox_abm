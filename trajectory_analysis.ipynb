{
 "cells": [
  {
   "cell_type": "markdown",
   "id": "527c5d3d",
   "metadata": {},
   "source": [
    "# Trajectory Analysis\n",
    "\n",
    "The Trajectory Analysis was conducted in R. For accessibility, the script are executable using this jupyter notebook. Outputs and figures are "
   ]
  },
  {
   "cell_type": "code",
   "execution_count": 1,
   "id": "607b6d06",
   "metadata": {},
   "outputs": [
    {
     "name": "stdout",
     "output_type": "stream",
     "text": [
      "Linking to GEOS 3.11.0, GDAL 3.5.3, PROJ 9.1.0; sf_use_s2() is TRUE\n",
      "\u001b[?25hYou can cite this package as:\n",
      "     Patil, I. (2021). Visualizations with statistical details: The 'ggstatsplot' approach.\n",
      "     Journal of Open Source Software, 6(61), 3167, doi:10.21105/joss.03167\n",
      "Loading required package: ggplot2\n",
      "\u001b[?25h\u001b[?25h\u001b[?25h[1] \"Loading metadata...\"\n",
      "\u001b[?25h\u001b[?25h\u001b[?25h[1] \"Metadata loaded.\"\n",
      "\u001b[?25h[1] \"Run preprocessing...\"\n",
      "\u001b[?25h[1] \"raw_ant_data/tracks/Ant03/Ant03R01_labels.csv processed.\"\n",
      "[1] \"raw_ant_data/tracks/Ant03/Ant03R02_labels.csv processed.\"\n",
      "[1] \"raw_ant_data/tracks/Ant03/Ant03R03_labels.csv processed.\"\n",
      "[1] \"raw_ant_data/tracks/Ant03/Ant03R05_labels.csv processed.\"\n",
      "[1] \"raw_ant_data/tracks/Ant05/Ant05R08_labels.csv processed.\"\n",
      "[1] \"raw_ant_data/tracks/Ant05/Ant05R09_labels.csv processed.\"\n",
      "[1] \"raw_ant_data/tracks/Ant05/Ant05R10_labels.csv processed.\"\n",
      "[1] \"raw_ant_data/tracks/Ant06/Ant06R03_labels.csv processed.\"\n",
      "[1] \"raw_ant_data/tracks/Ant06/Ant06R04_labels.csv processed.\"\n",
      "[1] \"raw_ant_data/tracks/Ant06/Ant06R05_labels.csv processed.\"\n",
      "[1] \"raw_ant_data/tracks/Ant11/Ant11R04_labels.csv processed.\"\n",
      "[1] \"raw_ant_data/tracks/Ant11/Ant11R05_labels.csv processed.\"\n",
      "[1] \"raw_ant_data/tracks/Ant11/Ant11R06_labels.csv processed.\"\n",
      "\u001b[?25h[1] \"Preprocessing complete.\"\n",
      "\u001b[?25h[1] \"Computing indices...\"\n",
      "\u001b[?25h\u001b[?25h\u001b[?25h\u001b[?25h\u001b[?25h[1] \"Indices calculated and saved to file (validation_data/observation_indices.csv)\"\n",
      "\u001b[?25h[1] \"Performing tests of equal differences and creating plots...\"\n",
      "\u001b[?25h\u001b[?25h\u001b[?25h\u001b[?25h\u001b[?25h\u001b[?25h[1] \"No equal variance for mean_speed\"\n",
      "[1] \"sd_speed has equal variance and is normally distributed\"\n",
      "[1] \"No equal variance for min_speed\"\n",
      "[1] \"No equal variance for max_speed\"\n",
      "[1] \"mean_open_speed has equal variance and is normally distributed\"\n",
      "[1] \"No equal variance for sd_open_speed\"\n",
      "[1] \"No equal variance for mean_veg_speed\"\n",
      "[1] \"sd_veg_speed has equal variance and is normally distributed\"\n",
      "[1] \"No equal variance for min_veg_speed\"\n",
      "[1] \"No equal variance for max_veg_speed\"\n",
      "[1] \"No equal variance for min_open_speed\"\n",
      "[1] \"No equal variance for max_open_speed\"\n",
      "[1] \"sinuosity2 has equal variance and is normally distributed\"\n",
      "[1] \"straightness has equal variance and is normally distributed\"\n",
      "[1] \"No equal variance for Emax\"\n",
      "[1] \"No equal variance for directional_change_mean\"\n",
      "[1] \"directional_change_sd has equal variance and is normally distributed\"\n",
      "[1] \"No equal variance for absolute_vegetation_time\"\n",
      "[1] \"No equal variance for relative_vegetation_time\"\n",
      "\u001b[?25h\u001b[?25h\u001b[?25h\u001b[?25h\u001b[?25h\u001b[?25h\u001b[?25h\u001b[?25h\u001b[?25h\u001b[?25h\u001b[?25h\u001b[?25h\u001b[?25h\u001b[?25h\u001b[?25h\u001b[?25h\u001b[?25h\u001b[?25h\u001b[?25h\u001b[?25h\u001b[?25h\u001b[?25h\u001b[?25h\u001b[?25h[1] \"Test complete and plots saved in directory ./analysis_plots_r\"\n",
      "\u001b[?25h\u001b[?25h"
     ]
    }
   ],
   "source": [
    "! Rscript ./trajectory_processing.r"
   ]
  },
  {
   "cell_type": "markdown",
   "id": "a747a8ce",
   "metadata": {},
   "source": [
    "## Visualization of boxplots & test results in this notebook\n",
    "\n",
    "The outputs can be displayed within this notebook by running the below cells.\n",
    "\n",
    "**Visualization does not work in Safari. Make sure to use Chrome as Browser.** \\\n",
    "Firefox might work as well, but was not tested. Alternatively, the files can be opened manually from the file browser."
   ]
  },
  {
   "cell_type": "code",
   "execution_count": 2,
   "id": "db529e89",
   "metadata": {},
   "outputs": [],
   "source": [
    "from IPython.display import IFrame"
   ]
  },
  {
   "cell_type": "markdown",
   "id": "ba0dbdcb",
   "metadata": {
    "scrolled": true
   },
   "source": [
    "### Relative time in shrubs by motivational state"
   ]
  },
  {
   "cell_type": "code",
   "execution_count": 3,
   "id": "53e921ec",
   "metadata": {
    "scrolled": false
   },
   "outputs": [
    {
     "data": {
      "text/html": [
       "\n",
       "        <iframe\n",
       "            width=\"1080\"\n",
       "            height=\"500\"\n",
       "            src=\"analysis_plots_r/relative_vegetation_time.pdf\"\n",
       "            frameborder=\"0\"\n",
       "            allowfullscreen\n",
       "            \n",
       "        ></iframe>\n",
       "        "
      ],
      "text/plain": [
       "<IPython.lib.display.IFrame at 0x7fcaf8100be0>"
      ]
     },
     "execution_count": 3,
     "metadata": {},
     "output_type": "execute_result"
    }
   ],
   "source": [
    "IFrame(\"analysis_plots_r/relative_vegetation_time.pdf\", width=1080, height=500)"
   ]
  },
  {
   "cell_type": "markdown",
   "id": "3a390210",
   "metadata": {
    "scrolled": true
   },
   "source": [
    "### Absolute time in shrubs by motivational state"
   ]
  },
  {
   "cell_type": "code",
   "execution_count": 4,
   "id": "b3e02ce9",
   "metadata": {
    "scrolled": false
   },
   "outputs": [
    {
     "data": {
      "text/html": [
       "\n",
       "        <iframe\n",
       "            width=\"1080\"\n",
       "            height=\"500\"\n",
       "            src=\"analysis_plots_r/absolute_vegetation_time.pdf\"\n",
       "            frameborder=\"0\"\n",
       "            allowfullscreen\n",
       "            \n",
       "        ></iframe>\n",
       "        "
      ],
      "text/plain": [
       "<IPython.lib.display.IFrame at 0x7fcaf8114610>"
      ]
     },
     "execution_count": 4,
     "metadata": {},
     "output_type": "execute_result"
    }
   ],
   "source": [
    "IFrame(\"analysis_plots_r/absolute_vegetation_time.pdf\", width=1080, height=500)"
   ]
  },
  {
   "cell_type": "markdown",
   "id": "c223fe24",
   "metadata": {
    "scrolled": true
   },
   "source": [
    "### Mean speed by motivational state"
   ]
  },
  {
   "cell_type": "code",
   "execution_count": 5,
   "id": "8d6c8e5e",
   "metadata": {},
   "outputs": [
    {
     "data": {
      "text/html": [
       "\n",
       "        <iframe\n",
       "            width=\"1080\"\n",
       "            height=\"500\"\n",
       "            src=\"analysis_plots_r/mean_speed.pdf\"\n",
       "            frameborder=\"0\"\n",
       "            allowfullscreen\n",
       "            \n",
       "        ></iframe>\n",
       "        "
      ],
      "text/plain": [
       "<IPython.lib.display.IFrame at 0x7fcb29faa6d0>"
      ]
     },
     "execution_count": 5,
     "metadata": {},
     "output_type": "execute_result"
    }
   ],
   "source": [
    "IFrame(\"analysis_plots_r/mean_speed.pdf\", width=1080, height=500)"
   ]
  },
  {
   "cell_type": "markdown",
   "id": "272bb369",
   "metadata": {
    "scrolled": true
   },
   "source": [
    "### Mean speed by land cover type"
   ]
  },
  {
   "cell_type": "code",
   "execution_count": 6,
   "id": "ca8d5156",
   "metadata": {},
   "outputs": [
    {
     "data": {
      "text/html": [
       "\n",
       "        <iframe\n",
       "            width=\"1080\"\n",
       "            height=\"500\"\n",
       "            src=\"analysis_plots_r/mean_speed_by_vegetation.pdf\"\n",
       "            frameborder=\"0\"\n",
       "            allowfullscreen\n",
       "            \n",
       "        ></iframe>\n",
       "        "
      ],
      "text/plain": [
       "<IPython.lib.display.IFrame at 0x7fcb484ba2e0>"
      ]
     },
     "execution_count": 6,
     "metadata": {},
     "output_type": "execute_result"
    }
   ],
   "source": [
    "IFrame(\"analysis_plots_r/mean_speed_by_vegetation.pdf\", width=1080, height=500)"
   ]
  },
  {
   "cell_type": "markdown",
   "id": "74503432",
   "metadata": {
    "scrolled": true
   },
   "source": [
    "### Straightness by motivational state"
   ]
  },
  {
   "cell_type": "code",
   "execution_count": 7,
   "id": "8d4b0471",
   "metadata": {},
   "outputs": [
    {
     "data": {
      "text/html": [
       "\n",
       "        <iframe\n",
       "            width=\"1080\"\n",
       "            height=\"500\"\n",
       "            src=\"analysis_plots_r/straightness.pdf\"\n",
       "            frameborder=\"0\"\n",
       "            allowfullscreen\n",
       "            \n",
       "        ></iframe>\n",
       "        "
      ],
      "text/plain": [
       "<IPython.lib.display.IFrame at 0x7fcb484ba4c0>"
      ]
     },
     "execution_count": 7,
     "metadata": {},
     "output_type": "execute_result"
    }
   ],
   "source": [
    "IFrame(\"analysis_plots_r/straightness.pdf\", width=1080, height=500)"
   ]
  },
  {
   "cell_type": "markdown",
   "id": "049c4b28",
   "metadata": {
    "scrolled": true
   },
   "source": [
    "### Corrected sinuosity by motivational state"
   ]
  },
  {
   "cell_type": "code",
   "execution_count": 8,
   "id": "567ee3ad",
   "metadata": {},
   "outputs": [
    {
     "data": {
      "text/html": [
       "\n",
       "        <iframe\n",
       "            width=\"1080\"\n",
       "            height=\"500\"\n",
       "            src=\"analysis_plots_r/sinuosity2.pdf\"\n",
       "            frameborder=\"0\"\n",
       "            allowfullscreen\n",
       "            \n",
       "        ></iframe>\n",
       "        "
      ],
      "text/plain": [
       "<IPython.lib.display.IFrame at 0x7fcb484ba910>"
      ]
     },
     "execution_count": 8,
     "metadata": {},
     "output_type": "execute_result"
    }
   ],
   "source": [
    "IFrame(\"analysis_plots_r/sinuosity2.pdf\", width=1080, height=500)"
   ]
  },
  {
   "cell_type": "markdown",
   "id": "df8c01e1",
   "metadata": {
    "scrolled": true
   },
   "source": [
    "### Expected Maximum Displacement by motivational state"
   ]
  },
  {
   "cell_type": "code",
   "execution_count": 9,
   "id": "fa315850",
   "metadata": {},
   "outputs": [
    {
     "data": {
      "text/html": [
       "\n",
       "        <iframe\n",
       "            width=\"1080\"\n",
       "            height=\"500\"\n",
       "            src=\"analysis_plots_r/Emax.pdf\"\n",
       "            frameborder=\"0\"\n",
       "            allowfullscreen\n",
       "            \n",
       "        ></iframe>\n",
       "        "
      ],
      "text/plain": [
       "<IPython.lib.display.IFrame at 0x7fcb484bab50>"
      ]
     },
     "execution_count": 9,
     "metadata": {},
     "output_type": "execute_result"
    }
   ],
   "source": [
    "IFrame(\"analysis_plots_r/Emax.pdf\", width=1080, height=500)"
   ]
  },
  {
   "cell_type": "markdown",
   "id": "95eafbc8",
   "metadata": {
    "scrolled": true
   },
   "source": [
    "### Directional Change by motivational state"
   ]
  },
  {
   "cell_type": "code",
   "execution_count": 10,
   "id": "260ee68a",
   "metadata": {},
   "outputs": [
    {
     "data": {
      "text/html": [
       "\n",
       "        <iframe\n",
       "            width=\"1080\"\n",
       "            height=\"500\"\n",
       "            src=\"analysis_plots_r/directional_change_mean.pdf\"\n",
       "            frameborder=\"0\"\n",
       "            allowfullscreen\n",
       "            \n",
       "        ></iframe>\n",
       "        "
      ],
      "text/plain": [
       "<IPython.lib.display.IFrame at 0x7fcb484ba0a0>"
      ]
     },
     "execution_count": 10,
     "metadata": {},
     "output_type": "execute_result"
    }
   ],
   "source": [
    "IFrame(\"analysis_plots_r/directional_change_mean.pdf\", width=1080, height=500)"
   ]
  }
 ],
 "metadata": {
  "kernelspec": {
   "display_name": "Python 3 (ipykernel)",
   "language": "python",
   "name": "python3"
  },
  "language_info": {
   "codemirror_mode": {
    "name": "ipython",
    "version": 3
   },
   "file_extension": ".py",
   "mimetype": "text/x-python",
   "name": "python",
   "nbconvert_exporter": "python",
   "pygments_lexer": "ipython3",
   "version": "3.9.12"
  }
 },
 "nbformat": 4,
 "nbformat_minor": 5
}
